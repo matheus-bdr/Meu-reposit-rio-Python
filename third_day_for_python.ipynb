{
  "nbformat": 4,
  "nbformat_minor": 0,
  "metadata": {
    "colab": {
      "provenance": [],
      "toc_visible": true,
      "authorship_tag": "ABX9TyOvdx2/TYTyPt7EUYm/TSNg",
      "include_colab_link": true
    },
    "kernelspec": {
      "name": "python3",
      "display_name": "Python 3"
    },
    "language_info": {
      "name": "python"
    }
  },
  "cells": [
    {
      "cell_type": "markdown",
      "metadata": {
        "id": "view-in-github",
        "colab_type": "text"
      },
      "source": [
        "<a href=\"https://colab.research.google.com/github/matheus-bdr/Meu-repositorio-Python/blob/main/third_day_for_python.ipynb\" target=\"_parent\"><img src=\"https://colab.research.google.com/assets/colab-badge.svg\" alt=\"Open In Colab\"/></a>"
      ]
    },
    {
      "cell_type": "markdown",
      "source": [
        "21) Construa um algoritmo em Python para determinar se o indivíduo está com um peso favorável. Essa situação é determinada através do IMC (Índice de Massa Corpórea), que é definida como sendo a relação entre o peso (PESO) e o quadrado da Altura (ALTURA) do indivíduo. Ou seja,\n",
        "\n",
        "IMC é igual ao peso dividido pelo quadrado da altura\n",
        "\n",
        "e, a situação do peso é determinada pela tabela abaixo: Condição Situação\n",
        "\n",
        "IMC abaixo de 20 Abaixo do peso\n",
        "\n",
        "IMC de 20 até 25 Peso Normal\n",
        "\n",
        "IMC de 25 até 30 Sobre Peso\n",
        "IMC de 30 até 40 Obeso\n",
        "\n",
        "IMC de 40 e acima Obeso Mórbido"
      ],
      "metadata": {
        "id": "BbuwLsTeIW2G"
      }
    },
    {
      "cell_type": "code",
      "source": [
        "\n",
        "a = float(input('insira sua altura : '))\n",
        "p = float(input('insira seu peso : '))\n",
        "\n",
        "imc = (p/(a*a))\n",
        "\n",
        "if imc<20:\n",
        "  print(f'seu imc é {imc} e está abaixo da media')\n",
        "elif imc >=20 and imc < 25:\n",
        "  print(f'seu imc é {imc} e está na media')\n",
        "elif imc >=25 and imc< 30:\n",
        "  print(f'seu imc é {imc} e está com sobre peso')\n",
        "elif imc >=30 and imc< 40:\n",
        "  print(f'seu imc é {imc} e está obeso')\n",
        "else:\n",
        "  print(f'seu imc é {imc} e voce esta obeso mórbida')\n"
      ],
      "metadata": {
        "id": "eYEoxFcqIiKm"
      },
      "execution_count": null,
      "outputs": []
    },
    {
      "cell_type": "markdown",
      "source": [
        "8) Criar um algoritmo em Python que leia um número inteiro entre 1 e 7 e\n",
        "escreva o dia da semana correspondente. Caso o usuário digite um número fora desse\n",
        "intervalo, deverá aparecer uma mensagem informando que não existe dia da semana\n",
        "com esse número."
      ],
      "metadata": {
        "id": "mxPLG77bSJHP"
      }
    },
    {
      "cell_type": "code",
      "source": [
        "n = float(input('insira aqui um número : '))\n",
        "  \n",
        "if(n==1):\n",
        "  print(\"corresponde ao domingo\")\n",
        "elif(n==2):\n",
        "  print(\"corresponde ao segunda\")\n",
        "elif(n==3):\n",
        "  print(\"corresponde ao terça\")\n",
        "elif(n==4):\n",
        "  print(\"corresponde ao quarta\")\n",
        "elif(n==5):\n",
        "  print(\"corresponde ao quinta\")\n",
        "elif(n==6):\n",
        "  print(\"corresponde ao sexta\")\n",
        "elif(n==7):\n",
        "  print(\"corresponde ao sabado\")\n",
        "else:\n",
        "    print(\"Não existe esse dia na semana\")"
      ],
      "metadata": {
        "id": "10-OW0ghSJeV"
      },
      "execution_count": null,
      "outputs": []
    },
    {
      "cell_type": "markdown",
      "source": [
        "9) A confederação brasileira de natação irá promover eliminatórias para o próximo\n",
        "mundial. Fazer um algoritmo em Python que receba a idade de um nadador e\n",
        "determine (imprima) a sua categoria segundo a tabela a seguir:\n",
        "\n",
        "Categoria Idade\n",
        "Infantil A 5 – 7 anos\n",
        "Infantil B 8 – 10 anos\n",
        "Juvenil A 11 – 13 anos\n",
        "Juvenil B 14 – 17 anos\n",
        "Sênior Maiores de 18 anos\n"
      ],
      "metadata": {
        "id": "OA6WnyIxn10Q"
      }
    },
    {
      "cell_type": "code",
      "source": [
        "idade = int(input('insira aqui a idade do nadador : '))\n",
        "\n",
        "if(idade >4 and idade < 8):\n",
        "  print(\"Infantil A 5 – 7 anos\")\n",
        "elif(idade<0):\n",
        "  print('idade invalida')\n",
        "elif(idade>7 and idade<11):\n",
        "  print(\"Infantil A 8 – 10 anos \")\n",
        "elif(idade>10 and idade<14):\n",
        "  print(\"Juvenil A 11 – 13 anos \")\n",
        "elif(idade>14 and idade<17):\n",
        "  print(\"Juvenil B 14 – 17 \")\n",
        "else:\n",
        "  print('Sênior Maiores de 18 anos')"
      ],
      "metadata": {
        "id": "ACXWWYQ-osdw"
      },
      "execution_count": null,
      "outputs": []
    },
    {
      "cell_type": "markdown",
      "source": [
        "10) Escreva um algoritmo em Python que dada a idade de uma pessoa, determine\n",
        "sua classificação segundo a seguinte tabela:\n",
        "- maior de idade;\n",
        "- menor de idade;\n",
        "- pessoa idosa (idade superior ou igual a 65 anos)."
      ],
      "metadata": {
        "id": "0_TLQOjVn2KA"
      }
    },
    {
      "cell_type": "code",
      "source": [
        "idade = int(input('insira aqui a sua idade : '))\n",
        "\n",
        "if(idade <18 ):\n",
        "  print('menor de idade')\n",
        "elif(idade<0):\n",
        "  print('idade invalida')\n",
        "elif(idade>17):\n",
        "  print('maior de idade')\n",
        "elif(idade>64): \n",
        "  print('idoso')"
      ],
      "metadata": {
        "id": "c7-WVM3_qsZ7"
      },
      "execution_count": null,
      "outputs": []
    },
    {
      "cell_type": "markdown",
      "source": [
        "11) Crie um algoritmo em Python que leia a idade de uma pessoa e informe a sua\n",
        "classe eleitoral:\n",
        "- não eleitor (abaixo de 16 anos);\n",
        "- eleitor obrigatório (entre a faixa de 18 e menor de 65 anos);\n",
        "- eleitor facultativo (de 16 até 18 anos e maior de 65 anos, inclusive).\n"
      ],
      "metadata": {
        "id": "Qgp7ESDDn2SW"
      }
    },
    {
      "cell_type": "code",
      "source": [
        "idade = int(input('insira aqui a sua idade : '))\n",
        "\n",
        "if(idade<16):\n",
        "  print('não eleitor (abaixo de 16 anos)')\n",
        "elif(idade<0):\n",
        "  print('idade invalida')\n",
        "elif(idade>17 and idade<66):\n",
        "  print('eleitor obrigatório (entre a faixa de 18 e menor de 65 anos)')\n",
        "elif(idade==16 or idade==17 or idade>65):\n",
        "  print('eleitor facultativo')\n"
      ],
      "metadata": {
        "id": "CKRracwmrl8q"
      },
      "execution_count": null,
      "outputs": []
    },
    {
      "cell_type": "markdown",
      "source": [
        "12) Depois da liberação do governo para as mensalidades dos planos de saúde, as pessoas\n",
        "começaram a fazer pesquisas para descobrir um bom plano, não muito caro. Um\n",
        "vendedor de um plano de saúde apresentou a tabela a seguir. Criar um algoritmo em\n",
        "Python que entre com a idade de uma pessoa e imprima o valor que ela deverá\n",
        "pagar, segundo a seguinte tabela:\n",
        "\n",
        "Idade Valor\n",
        "\n",
        "Até 10 anos R$ 30,00\n",
        "Acima de 10 até 29 anos R$ 60,00\n",
        "Acima de 29 até 45 anos R$ 120,00\n",
        "Acima de 45 até 59 anos R$ 150,00\n",
        "Acima de 59 até 65 anos R$ 250,00\n",
        "maior que 65 anos R$ 400,00"
      ],
      "metadata": {
        "id": "6WXhbU34n2b1"
      }
    },
    {
      "cell_type": "code",
      "source": [
        "idade = int(input('insira aqui a sua idade : '))\n",
        "\n",
        "if(idade<11):\n",
        "  print('30R$')\n",
        "elif(idade<0):\n",
        "  print('idade invalida')\n",
        "elif(idade>10 and idade<=29):\n",
        "  print('60R$')\n",
        "elif(idade>30 and idade<=45):\n",
        "  print('120R$')\n",
        "elif(idade>45 and idade<=59):\n",
        "  print('150R$')\n",
        "elif(idade>60 and idade<=65):\n",
        "  print('250R$')\n",
        "else:\n",
        "  print('400R$')"
      ],
      "metadata": {
        "id": "LvPOI5DuuYXA"
      },
      "execution_count": null,
      "outputs": []
    },
    {
      "cell_type": "markdown",
      "source": [
        "13) Criar um algoritmo em Python que a partir da idade e peso do paciente calcule a\n",
        "dosagem de determinado medicamento e imprima a receita informando quantas gotas\n",
        "do medicamento o paciente deve tomar por dose. Considere que o medicamento em\n",
        "questão possui 500 mg por ml, e que cada ml corresponde a 20 gotas.\n",
        "- Adultos ou adolescentes desde 12 anos, inclusive, se tiverem peso igual ou\n",
        "acima de 60 quilos devem tomar 1000 mg; com peso abaixo de 60 quilos\n",
        "devem tomar 875 mg.\n",
        "\n",
        "- Para crianças e adolescentes abaixo de 12 anos a dosagem é calculada pelo\n",
        "peso corpóreo conforme a tabela a seguir:\n",
        "\n",
        "Peso Dosagem\n",
        "5 kg a 9 kg 125 mg\n",
        "9.1 kg a 16 kg 250 mg\n",
        "16.1 kg a 24 kg 375 mg\n",
        "24.1 kg a 30 kg 500 mg\n",
        "Acima de 30 kg 750 mg"
      ],
      "metadata": {
        "id": "ynRARD4UoCdS"
      }
    },
    {
      "cell_type": "code",
      "source": [
        "idade = float(input('insira aqui a sua idade : '))\n",
        "peso = float(input('insira aqui a seu peso : '))\n",
        " \n",
        "if(idade>=12 and peso>=60):\n",
        "  print('por dose: 1000 mg == 40 ml')\n",
        "elif(idade>=12 and peso<60):\n",
        "  print('por dose: 875 mg == 35ml')\n",
        "\n",
        "elif(idade<0):\n",
        "  print('idade invalida')  \n",
        "\n",
        "elif(idade<12 and peso>=5 and peso<=9):\n",
        "  print('por dose: 125 mg == 5ml')\n",
        "elif(idade<12 and peso>=9.1 and peso<=16):\n",
        "  print('por dose: 250mg ==10ml')\n",
        "elif(idade<12 and peso>=16.1 and peso<=24):\n",
        "  print('por dose: 375mg = 15ml')\n",
        "elif(idade<12 and peso>=24.1 and peso<=30):\n",
        "  print('por dose: 500mg == 20ml')\n",
        "elif(idade<12 and peso>30):\n",
        "  print('por dose: 750mg == 30ml')\n"
      ],
      "metadata": {
        "id": "sU_REGMSwPgU"
      },
      "execution_count": null,
      "outputs": []
    },
    {
      "cell_type": "markdown",
      "source": [
        "14) Construa um algoritmo em Python para determinar a situação\n",
        "(APROVADO/EXAME/REPROVADO) de um aluno, dado a sua freqüência (FREQ)\n",
        "(porcentagem de 0 a 100%) e sua nota (NOTA) (nota de 0.0 a 10.0), sendo que:\n",
        "\n",
        "Condição Situação\n",
        "\n",
        "Frequência até 75% Reprovado\n",
        "Frequência entre 75% e 100% e Nota até 3.0 Reprovado\n",
        "Frequência entre 75% e 100% e Nota de 3.0 até 7.0 Exame\n",
        "Frequência entre 75% e 100% e Nota entre 7.0 e 10.0 Aprovado"
      ],
      "metadata": {
        "id": "2Dz0tRqboFpW"
      }
    },
    {
      "cell_type": "code",
      "source": [
        "nota = float(input('insira aqui a nota do aluno : '))\n",
        "frequencia=float(input('insira aqui a frequencia do aluno : '))\n",
        "\n",
        "if(frequencia<75):\n",
        "  print('Reprovado por falta')\n",
        "elif(frequencia>=75 and nota>=3 and nota < 7):\n",
        "  print('Aluno terá que fazer exame')\n",
        "elif(frequencia>=75 and nota>=7):\n",
        "  print('Aluno aprovado!')"
      ],
      "metadata": {
        "id": "6IcoT9Fe3g64"
      },
      "execution_count": null,
      "outputs": []
    },
    {
      "cell_type": "markdown",
      "source": [
        "ler 10 notas de uma aluno e imprimir na tela cada uma delas\n"
      ],
      "metadata": {
        "id": "wyCPDkDbgiks"
      }
    },
    {
      "cell_type": "code",
      "source": [
        "#contador \n",
        "contador = 1\n",
        "soma = 0\n",
        "\n",
        "while contador <= 3:\n",
        "  nota = int(input('insira aqui a nota do aluno : '))\n",
        "  soma = soma+nota\n",
        "  print('A nota digitada foi ')\n",
        "  contador +=1\n",
        "\n",
        "  print(\"a media é \",(soma)/5)"
      ],
      "metadata": {
        "id": "QFZksJfkgttm"
      },
      "execution_count": null,
      "outputs": []
    },
    {
      "cell_type": "code",
      "source": [
        "#pedir um numero positivo \n",
        "\n",
        "numero = int(input('insira um numero positivo : '))\n",
        "\n",
        "while numero <2:\n",
        "  numero = int(input('insira aqui a nota do aluno : '))\n",
        "\n",
        "print('obrigado!')\n"
      ],
      "metadata": {
        "colab": {
          "base_uri": "https://localhost:8080/"
        },
        "id": "LrS6005ooaoc",
        "outputId": "500d45c0-bdcf-49f4-c933-3891cab81c35"
      },
      "execution_count": 75,
      "outputs": [
        {
          "output_type": "stream",
          "name": "stdout",
          "text": [
            "insira um numero positivo : -12\n",
            "insira aqui a nota do aluno : -12\n",
            "Não aceito numeros negativos!\n",
            "insira aqui a nota do aluno : -12\n",
            "Não aceito numeros negativos!\n",
            "insira aqui a nota do aluno : 2\n",
            "Não aceito numeros negativos!\n",
            "obrigado!\n"
          ]
        }
      ]
    }
  ]
}