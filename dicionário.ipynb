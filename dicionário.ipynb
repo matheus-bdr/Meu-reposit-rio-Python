{
  "nbformat": 4,
  "nbformat_minor": 0,
  "metadata": {
    "colab": {
      "provenance": [],
      "authorship_tag": "ABX9TyM1FO5rcuMK7rpuJSsjMK5n",
      "include_colab_link": true
    },
    "kernelspec": {
      "name": "python3",
      "display_name": "Python 3"
    },
    "language_info": {
      "name": "python"
    }
  },
  "cells": [
    {
      "cell_type": "markdown",
      "metadata": {
        "id": "view-in-github",
        "colab_type": "text"
      },
      "source": [
        "<a href=\"https://colab.research.google.com/github/matheus-bdr/Meu-repositorio-Python/blob/main/dicion%C3%A1rio.ipynb\" target=\"_parent\"><img src=\"https://colab.research.google.com/assets/colab-badge.svg\" alt=\"Open In Colab\"/></a>"
      ]
    },
    {
      "cell_type": "code",
      "execution_count": null,
      "metadata": {
        "id": "ORPgXjB2e4ht"
      },
      "outputs": [],
      "source": [
        "carro = {}\n",
        "\n",
        "carro['nome'] = input('Digite o nome do carro: ')\n",
        "carro['modelo'] = input('Digite o modelo do carro: ')\n",
        "carro['fabricante'] = input('Digite o fabricante do carro: ')\n",
        "carro['cor'] = input('Digite a cor do carro: ')\n",
        "carro "
      ]
    },
    {
      "cell_type": "code",
      "source": [
        "carro = {}\n",
        "\n",
        "nome = input('Digite o nome do carro: ')\n",
        "modelo = input('Digite o modelo do carro: ')\n",
        "fab = input('Digite o fabricante do carro: ')\n",
        "cor = input('Digite a cor do carro: ')\n",
        "\n",
        "carro.update({'nome':nome, 'modelo':modelo, 'fabricante':fab, 'cor':cor})\n",
        "print(carro)"
      ],
      "metadata": {
        "id": "BMFNdfI1g8kU"
      },
      "execution_count": null,
      "outputs": []
    },
    {
      "cell_type": "code",
      "source": [
        "carro = {}\n",
        "deseja =  input('deseja digitar nome para carro? ')\n",
        "while deseja == 'sim':\n",
        "\n",
        "  nome = input('Digite o nome do carro: ')\n",
        "  modelo =  input('Digite o modelo do carro: ')\n",
        "  fabricante = input('Digite o fabricante do carro: ')\n",
        "  cor = input('Digite a cor do carro: ')\n",
        "\n",
        "  deseja =  input('deseja digitar nome para carro? ')\n",
        "\n",
        "  carro.update({'nome': nome, 'modelo':modelo, 'fabricante':fabricante, 'cor':cor})\n",
        "\n",
        "print(carro.items())\n",
        "\n",
        "for chave, valor in carro.items():\n",
        "  print(f'{chave} = {valor}')"
      ],
      "metadata": {
        "id": "xwoe626cuTt0"
      },
      "execution_count": null,
      "outputs": []
    },
    {
      "cell_type": "code",
      "source": [
        "carro = {}\n",
        "deseja =  input('deseja digitar nome para carro? ')\n",
        "while deseja == 'sim':\n",
        "\n",
        "  nome = input('Digite o nome do carro: ')\n",
        "  modelo =  input('Digite o modelo do carro: ')\n",
        "  fabricante = input('Digite o fabricante do carro: ')\n",
        "  cor = input('Digite a cor do carro: ')\n",
        "\n",
        "  deseja =  input('deseja digitar nome para carro? ')\n",
        "\n",
        "  carro.update({'nome': nome, 'modelo':modelo, 'fabricante':fabricante, 'cor':cor})\n",
        "\n",
        "print(carro.items())\n",
        "\n",
        "for chave, valor in carro.items():\n",
        "  print(f'{chave} = {valor}')"
      ],
      "metadata": {
        "id": "l_ZO181S2efz"
      },
      "execution_count": null,
      "outputs": []
    },
    {
      "cell_type": "code",
      "source": [
        "coisas_carro = ['nome','modelo','marca']\n",
        "\n",
        "carros= []\n",
        "\n",
        "while True:\n",
        "  carro = {}\n",
        "  for contador in coisas_carro:\n",
        "    carro[contador] = (input(f'qual o {contador} do carro '))\n",
        "    \n",
        "  carros.append(carro.copy())\n",
        "    \n",
        "  escolha = (input('quer parar o programa? '))\n",
        "  if escolha == 'sim':\n",
        "    break\n",
        "    \n",
        "\n",
        "print (carros)"
      ],
      "metadata": {
        "id": "qKZT6lXn4w6J"
      },
      "execution_count": null,
      "outputs": []
    }
  ]
}