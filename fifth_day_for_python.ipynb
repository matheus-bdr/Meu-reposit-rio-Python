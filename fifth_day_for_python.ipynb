{
  "nbformat": 4,
  "nbformat_minor": 0,
  "metadata": {
    "colab": {
      "provenance": [],
      "authorship_tag": "ABX9TyMwpx4NFYGT9XMnDlEw1n7x",
      "include_colab_link": true
    },
    "kernelspec": {
      "name": "python3",
      "display_name": "Python 3"
    },
    "language_info": {
      "name": "python"
    }
  },
  "cells": [
    {
      "cell_type": "markdown",
      "metadata": {
        "id": "view-in-github",
        "colab_type": "text"
      },
      "source": [
        "<a href=\"https://colab.research.google.com/github/matheus-bdr/Meu-repositorio-Python/blob/main/fifth_day_for_python.ipynb\" target=\"_parent\"><img src=\"https://colab.research.google.com/assets/colab-badge.svg\" alt=\"Open In Colab\"/></a>"
      ]
    },
    {
      "cell_type": "markdown",
      "source": [
        "Escrever os numeros de  0 a 9 usando python"
      ],
      "metadata": {
        "id": "iYX_6RT3KnsK"
      }
    },
    {
      "cell_type": "code",
      "execution_count": null,
      "metadata": {
        "id": "Cql59vGl83Y9"
      },
      "outputs": [],
      "source": [
        "i=0\n",
        "for i in range(1,10,2):\n",
        "  print(i)"
      ]
    },
    {
      "cell_type": "markdown",
      "source": [
        "Escreva de 0 a 20 de forma decrescente "
      ],
      "metadata": {
        "id": "omOY_gd3Kyu5"
      }
    },
    {
      "cell_type": "code",
      "source": [
        "i=20 \n",
        "for i in range(20,0,-1):\n",
        "  print(i)"
      ],
      "metadata": {
        "id": "YTQ4mZDYJ_wQ"
      },
      "execution_count": null,
      "outputs": []
    },
    {
      "cell_type": "markdown",
      "source": [],
      "metadata": {
        "id": "hDa6LQHYKcV-"
      }
    },
    {
      "cell_type": "code",
      "source": [
        "n = int(input('digite seu numero '))\n",
        "i =  0 \n",
        "fat =1\n",
        "\n",
        "for i in range(n,1,-1):\n",
        "  fat= fat*i\n",
        "print(fat)"
      ],
      "metadata": {
        "id": "MuqC3FVnK5zg"
      },
      "execution_count": null,
      "outputs": []
    },
    {
      "cell_type": "markdown",
      "source": [
        "Crie um programa em Python que escreva na tela os números de 250 a 120 em ordem decrescente."
      ],
      "metadata": {
        "id": "RNr1ylOkNuad"
      }
    },
    {
      "cell_type": "code",
      "source": [
        "i = 250\n",
        "fat =1\n",
        "\n",
        "for i in range(i,119,-1):\n",
        "  print(i)\n"
      ],
      "metadata": {
        "id": "keMDyU4LNvOb"
      },
      "execution_count": null,
      "outputs": []
    },
    {
      "cell_type": "markdown",
      "source": [
        "Crie um programa em Python que escreva na tela os números de 1000 a 1500 em ordem crescente."
      ],
      "metadata": {
        "id": "bVY_RQynNvuG"
      }
    },
    {
      "cell_type": "code",
      "source": [
        "i = 1000\n",
        "fat =1\n",
        "\n",
        "for i in range(i,1501,1):\n",
        "  print(i)\n"
      ],
      "metadata": {
        "id": "rZzfM94RNv9N"
      },
      "execution_count": null,
      "outputs": []
    },
    {
      "cell_type": "markdown",
      "source": [
        "3) Faça um programa que leia 10 números inteiros positivos e mostre, no final, a soma dos números pares e a soma dos números ímpares."
      ],
      "metadata": {
        "id": "3zfuM_ObT9I6"
      }
    },
    {
      "cell_type": "code",
      "source": [
        "i=0 \n",
        "soma_par = 0\n",
        "soma_impar = 0   \n",
        "for i in range(i,4,1):\n",
        "  n = int(input('digite seu numero '))\n",
        "\n",
        "  while n<1:\n",
        "    n = int(input('digite seu numero ')) \n",
        "  if (n%2==0):\n",
        "    soma_par = soma_par + n\n",
        "  if (n%2!=0):\n",
        "    soma_impar = soma_impar + n  \n",
        " \n",
        "print('a soma dos números pares é: ', soma_par)\n",
        "print('a soma dos números impares é: ', soma_impar)"
      ],
      "metadata": {
        "id": "wSS9gM8uT0DS"
      },
      "execution_count": null,
      "outputs": []
    },
    {
      "cell_type": "markdown",
      "source": [
        "4) Crie um programa que leia 10 números e informe na tela o maior e o menor número lido."
      ],
      "metadata": {
        "id": "6K4O9jnhUtfa"
      }
    },
    {
      "cell_type": "code",
      "source": [
        "i=0 \n",
        "maior = 0 \n",
        "menor = 99999999999999999999999\n",
        "for i in range(i,3,1):\n",
        "  n = int(input('digite seu numero '))\n",
        "  if (maior<n):\n",
        "    maior = n\n",
        "  if (menor>n and n > 0):\n",
        "    menor = n\n",
        "print('O maior número é: ', maior)\n",
        "print('O menor número é: ', menor)"
      ],
      "metadata": {
        "id": "SHVeOfVfUxNh"
      },
      "execution_count": null,
      "outputs": []
    },
    {
      "cell_type": "markdown",
      "source": [
        "5) Em uma turma há 10 alunos. Cada aluno tem 2 notas. Um professor precisa calcular a média das duas notas de cada aluno. Crie um programa que resolva este problema."
      ],
      "metadata": {
        "id": "vvgHU-E3WTdS"
      }
    },
    {
      "cell_type": "code",
      "source": [
        "i = 1\n",
        "soma = 0\n",
        "media = 0\n",
        "for i in range(i,11,1):\n",
        "  n1 = float(input('------------\\nDigite a nota 1 :'))\n",
        "  n2 = float(input('Digite a nota 2 :'))\n",
        "  \n",
        "  while(n1 < 0 or n2 < 0):\n",
        "    n1 = float(input('ERRO: digite a nota 1 :'))\n",
        "    n2 = float(input('ERRO: digite a nota 2 :'))\n",
        "\n",
        "  media = (n1+n2)/2\n",
        "  print(f'A media do aluno {i} é {media} ')"
      ],
      "metadata": {
        "id": "-q-guDStWTEK"
      },
      "execution_count": null,
      "outputs": []
    },
    {
      "cell_type": "markdown",
      "source": [
        "6) Digitados dois números (base e expoente ), calcule o resultado  da potência utilizando apenas\n",
        "operadores básicos da matemática(soma, subtração, multiplicação ou divisão) e o comando FOR;"
      ],
      "metadata": {
        "id": "wq5jpBh5Xwqi"
      }
    },
    {
      "cell_type": "code",
      "source": [
        "i=0\n",
        "cal=1\n",
        "\n",
        "b = int(input('Digite a base '))\n",
        "ex = int(input('Digite o expoente '))\n",
        "\n",
        "for i in range(i,ex,1):\n",
        "  cal= cal*b\n",
        "print(f\"O resultado é {cal}\")"
      ],
      "metadata": {
        "id": "inD98JKDXxHy"
      },
      "execution_count": null,
      "outputs": []
    },
    {
      "cell_type": "markdown",
      "source": [
        "7) Dado um número n inteiro e positivo, dizemos que n é perfeito se n for igual à soma de seus divisores positivos diferentes de n. Construa um programa em python que verifica se um\n",
        "dado número é perfeito. Ex: 6 é perfeito, pois 1+2+3 = 6."
      ],
      "metadata": {
        "id": "2UHISd2ZY9VK"
      }
    },
    {
      "cell_type": "code",
      "source": [
        "i = 1 \n",
        "soma = 0 \n",
        "numero = int(input('digite um numero: '))\n",
        "for i in range(i,numero,1):\n",
        "  if(numero%i==0):\n",
        "    soma = soma + i\n",
        "if(numero==soma):\n",
        "  print('Numero perfeito ')\n",
        "    \n",
        "    "
      ],
      "metadata": {
        "id": "TIBnmcrNY9rR",
        "colab": {
          "base_uri": "https://localhost:8080/"
        },
        "outputId": "912d949b-c4e7-4a95-fafe-c5183ef5005f"
      },
      "execution_count": null,
      "outputs": [
        {
          "output_type": "stream",
          "name": "stdout",
          "text": [
            "digite um numero: 496\n",
            "Numero perfeito \n"
          ]
        }
      ]
    },
    {
      "cell_type": "markdown",
      "source": [
        "Escreva um programa em Python que leia um número inteiro positivo e diga se o número informado é primo"
      ],
      "metadata": {
        "id": "K3nwp1PHb37i"
      }
    },
    {
      "cell_type": "code",
      "source": [
        "divisores = 0\n",
        "\n",
        "numero = int(input(\"Digite um número inteiro positivo: \"))\n",
        "    \n",
        "for i in range(1, numero+1):\n",
        "  if numero % i == 0:\n",
        "    divisores += 1\n",
        "    \n",
        "if divisores == 2:\n",
        "  print(f'{numero} é um número primo')\n",
        "else:\n",
        "  print(f'Não é número primo')"
      ],
      "metadata": {
        "id": "5-TMz-Jjb3iC"
      },
      "execution_count": null,
      "outputs": []
    },
    {
      "cell_type": "markdown",
      "source": [
        "1) Faça um Programa que leia uma lista de 5 números inteiros e mostre-os.\n",
        "\n",
        "2) Faça um Programa que leia uma lista de 10 números reais e mostre-os na ordem inversa.\n",
        "\n",
        "3) Faça um Programa que leia 4 notas de aluno e armazene-as dentro de uma lista. Em seguida mostre as notas e a média das notas na tela.\n",
        "\n",
        "4) Faça um Programa que leia 20 números inteiros e armazene-os numa lista. Em seguida, crie mais 2 listas, uma para armazenar os números pares e outra para armazenar os números impares. Ao final, Imprima as três listas.\n",
        "\n",
        "5) Faça um Programa que peça as quatro notas de 10 alunos junto com o seu nome. Calcule e armazene numa lista a média de cada aluno, bem como em outra lista armazene o nome do aluno. Ao final imprima o número de alunos com média maior ou igual a 7.0 junto com o seu nome e a média.\n",
        "\n",
        "6) Faça um Programa que leia uma lista de 5 números inteiros. Após, percorra a lista e calcule a soma e a multiplicação dos números. Ao final, mostre os números lidos, a soma dos números e a multiplicação entre eles.\n",
        "\n",
        "7) Faça um Programa que leia uma lista A com 10 números inteiros, calcule e mostre a soma dos quadrados dos elementos da lista.\n",
        "\n",
        "8) Faça um programa que leia o nome, a idade e a altura de 10 alunos da SoulCode. Em seguida determine quantos alunos com mais de 13 anos possuem altura inferior à média de altura desses alunos.\n",
        "9) Escreva um algoritmo em python que leia um número N positivo e preencha uma lista com os N primeiros números da sequência de Fibonacci\n",
        "\n",
        "#A sequência é a seguinte: 1 1 2 3 5 8 13 21 34 55 89 …\n",
        "No final, apresente a lista na tela"
      ],
      "metadata": {
        "id": "mMxuJZbEr_rK"
      }
    },
    {
      "cell_type": "markdown",
      "source": [
        "1) Faça um Programa que leia uma lista de 5 números inteiros e mostre-os."
      ],
      "metadata": {
        "id": "Gh66erSns4Ij"
      }
    },
    {
      "cell_type": "code",
      "source": [
        "i=0\n",
        "j=0\n",
        "n = []\n",
        "for i in range(i,5,1):\n",
        "  n.append(int(input(\"Digite um número inteiro positivo: \")))  \n",
        "for i in n:\n",
        "  print(i)\n",
        "\n",
        "\n"
      ],
      "metadata": {
        "id": "7tG3L_7ns2lm"
      },
      "execution_count": null,
      "outputs": []
    },
    {
      "cell_type": "markdown",
      "source": [
        "2) Faça um Programa que leia uma lista de 10 números reais e mostre-os na ordem inversa."
      ],
      "metadata": {
        "id": "mCD7jmQS0dJW"
      }
    },
    {
      "cell_type": "code",
      "source": [
        "\n",
        "numeros = []\n",
        "for i in range(0,3,1):\n",
        "  n=(float(input('Digite um número real: ')))  \n",
        "  numeros.append(n) \n",
        "\n",
        "print(numeros) \n",
        "numeros.reverse()\n",
        "print(numeros)\n",
        "\n",
        "\n",
        "\n"
      ],
      "metadata": {
        "id": "bfYcA9dO0eDW"
      },
      "execution_count": null,
      "outputs": []
    },
    {
      "cell_type": "markdown",
      "source": [
        "3) Faça um Programa que leia 4 notas de aluno e armazene-as dentro de uma lista. Em seguida mostre as notas e a média das notas na tela."
      ],
      "metadata": {
        "id": "-G9Jcu2wO8a4"
      }
    },
    {
      "cell_type": "code",
      "source": [
        "i = 0\n",
        "max = 4 \n",
        "n = []\n",
        "j=0\n",
        "k=0\n",
        "soma=0\n",
        "for i in range(i,max,1): \n",
        "    n.append(int(input(\"Digite um número real: \")))  \n",
        "  \n",
        "for j in range(j, max, 1):\n",
        "  soma= n[j] + soma\n",
        "\n",
        "for k in range(k, max, 1):\n",
        "  print(f' O numero -- {k+1} -- digitado foi {n[k]}')\n",
        "\n",
        "print(f'a media das notas é {soma/max}')"
      ],
      "metadata": {
        "id": "sgdiAaXPO-V4",
        "colab": {
          "base_uri": "https://localhost:8080/"
        },
        "outputId": "523a1f96-9abf-44fa-f10b-4ea1238da7d0"
      },
      "execution_count": 80,
      "outputs": [
        {
          "output_type": "stream",
          "name": "stdout",
          "text": [
            "Digite um número real: 10\n",
            "Digite um número real: 10\n",
            "Digite um número real: 10\n",
            "Digite um número real: 10\n",
            " O numero -- 1 -- digitado foi 10\n",
            " O numero -- 2 -- digitado foi 10\n",
            " O numero -- 3 -- digitado foi 10\n",
            " O numero -- 4 -- digitado foi 10\n",
            "a media das notas é 10.0\n"
          ]
        }
      ]
    },
    {
      "cell_type": "markdown",
      "source": [
        "4) Faça um Programa que leia 20 números inteiros e armazene-os numa lista. Em seguida, crie mais 2 listas, uma para armazenar os números pares e outra para armazenar os números impares. Ao final, Imprima as três listas."
      ],
      "metadata": {
        "id": "8DGxGx6ISeLH"
      }
    },
    {
      "cell_type": "code",
      "source": [
        "numero = [] \n",
        "listaPares = []\n",
        "listaImpares = []\n",
        "i = 0 \n",
        "j= 0\n",
        "k = 0\n",
        "\n",
        "for i in range(i, 20, 1):\n",
        "  numero.append(int(input(f'digite o {i+1}º numero  ')))\n",
        "for j in range(j,20,1): \n",
        "\n",
        "  if(numero[j]%2==0):\n",
        "    listaPares.append(numero[j])\n",
        "  else:\n",
        "    listaImpares.append(numero[j])\n",
        "\n",
        "print('numeros impares', listaImpares)\n",
        "print('numeros pares',  listaPares)\n"
      ],
      "metadata": {
        "id": "cN7q8NsVSdE2"
      },
      "execution_count": null,
      "outputs": []
    },
    {
      "cell_type": "markdown",
      "source": [
        "5) Faça um Programa que peça as quatro notas de 10 alunos junto com o seu nome. Calcule e armazene numa lista a média de cada aluno, bem como em outra lista armazene o nome do aluno. Ao final imprima o número de alunos com média maior ou igual a 7.0 junto com o seu nome e a média."
      ],
      "metadata": {
        "id": "-8XbEY3TVwwq"
      }
    },
    {
      "cell_type": "code",
      "source": [
        "'''\n",
        "5) Faça um Programa que peça as quatro notas de 10 alunos junto com o seu nome. \n",
        "Calcule e armazene numa lista a média de cada aluno, bem como em outra lista armazene\n",
        " o nome do aluno. Ao final imprima o número de alunos com média maior ou igual a 7.0 junto\n",
        "  com o seu nome e a média.\n",
        "'''\n",
        "\n",
        "nome_alunos = []\n",
        "notas_alunos = []\n",
        "media_alunos = []\n",
        "quantidade_alunos_acima_media = 0\n",
        "\n",
        "for i in range(3): #for dos alunos\n",
        "  soma_notas = 0\n",
        "  nome_alunos.append(input(f'Digite o nome do {i+1}º aluno: '))\n",
        "  notas = []\n",
        "  for j in range(4): #for das notas\n",
        "    nota = float(input(f'Digite a {j+1}ª nota do {i+1}º aluno: '))\n",
        "    while nota < 0 or nota > 10:\n",
        "      nota = float(input(f'Digite a {j+1}ª nota do {i+1}º aluno: '))\n",
        "\n",
        "    notas.append(nota)\n",
        "    soma_notas += nota\n",
        "  \n",
        "  notas_alunos.append(notas)\n",
        "  media = soma_notas / 4\n",
        "  media_alunos.append(media)\n",
        "\n",
        "print(nome_alunos)\n",
        "print(notas_alunos)\n",
        "print(media_alunos)\n",
        "\n",
        "for i in range(len(media_alunos)):\n",
        "  if media_alunos[i] >= 7:\n",
        "    print('Nome do Aluno: ', nome_alunos[i])\n",
        "    print('Média do Aluno: ', media_alunos[i])\n",
        "    quantidade_alunos_acima_media += 1\n",
        "\n",
        "print(f'A quantidade de alunos acima da média 7 é igual a {quantidade_alunos_acima_media}')"
      ],
      "metadata": {
        "id": "mjnH29vxV0VE"
      },
      "execution_count": null,
      "outputs": []
    },
    {
      "cell_type": "markdown",
      "source": [
        "6) Faça um Programa que leia uma lista de 5 números inteiros. Após, percorra a lista e calcule a soma e a multiplicação dos números. Ao final, mostre os números lidos, a soma dos números e a multiplicação entre eles.\n"
      ],
      "metadata": {
        "id": "ucEHM95-sDHV"
      }
    },
    {
      "cell_type": "code",
      "source": [
        "i=0\n",
        "soma=0\n",
        "mult=0\n",
        "n = []\n",
        "\n",
        "from math import prod\n",
        "\n",
        "for i in range(i,5,1):\n",
        "  n.append(int(input(\"Digite um número inteiro positivo: \")))  \n",
        "  \n",
        "soma = sum(n)\n",
        "mult = prod(n)\n",
        "\n",
        "#SOMA ELEMENTOS DE UMA LISTA sum()\n",
        "#from math import prod    prod()  \n",
        "print(f'a soma dos numero {n[0]} + {n[1]} + {n[2]} + {n[3]} + {n[4]}  é igual a {soma}' )\n",
        "print(f'a multiplicação dos numero {n[0]} X {n[1]} X {n[2]} X {n[3]} X {n[4]}  é igual a {mult}' )\n",
        "\n"
      ],
      "metadata": {
        "id": "05tP7JvCsDhs"
      },
      "execution_count": null,
      "outputs": []
    },
    {
      "cell_type": "markdown",
      "source": [
        "\n",
        "\n",
        "7) Faça um Programa que leia uma lista A com 10 números inteiros, calcule e mostre a soma dos quadrados dos elementos da lista.\n"
      ],
      "metadata": {
        "id": "bC_PH-BMwwxr"
      }
    },
    {
      "cell_type": "code",
      "source": [
        "i=0\n",
        "j=0\n",
        "k= 0\n",
        "soma=0\n",
        "A = []\n",
        "\n",
        "from math import prod\n",
        "\n",
        "for i in range(i,10,1):\n",
        "  A.append(int(input(\"Digite um número inteiro positivo: \")))  \n",
        "  \n",
        "\n",
        "for j in range(j,10,1):\n",
        "  A[j] = A[j]**2\n",
        "  soma = sum(A)\n",
        "\n",
        "\n",
        "for k in range(k,10,1):\n",
        "  print(f'O quadrado do numero é {A[k]}' )\n",
        "  \n",
        "print(f'e a soma dos é {soma}')"
      ],
      "metadata": {
        "id": "bhAC9O7ow-8z"
      },
      "execution_count": null,
      "outputs": []
    },
    {
      "cell_type": "markdown",
      "source": [
        "8) Faça um programa que leia o nome, a idade e a altura de 10 alunos da SoulCode. Em seguida determine quantos alunos com mais de 13 anos possuem altura inferior à média de altura desses alunos."
      ],
      "metadata": {
        "id": "oJM4CJJM1kxy"
      }
    },
    {
      "cell_type": "code",
      "source": [
        "i=0\n",
        "j=0\n",
        "k= 0\n",
        "t=0\n",
        "soma=0\n",
        "media=0 \n",
        "\n",
        "nome = []\n",
        "idade = []\n",
        "altura = []\n",
        "anoes = []\n",
        "\n",
        "for i in range(i,3,1):\n",
        "  nome.append(input(\"informe seu nome: \"))\n",
        "  idade.append(int(input(\"infome sua idade: \")))  \n",
        "  altura.append(float(input(\"info me sua altura: \")))  \n",
        "  soma = sum(altura)\n",
        "t=len(altura) \n",
        "# media = (altura)/ t\n",
        "# if(altura[i]<media and idade > 13):\n",
        "#   anoes.apppend(altura[i])\n",
        "\n",
        "# print(len(anoes))"
      ],
      "metadata": {
        "id": "RvZ1Nt531mND"
      },
      "execution_count": null,
      "outputs": []
    }
  ]
}