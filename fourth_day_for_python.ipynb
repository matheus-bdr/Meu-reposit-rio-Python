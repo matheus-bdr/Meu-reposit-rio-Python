{
  "nbformat": 4,
  "nbformat_minor": 0,
  "metadata": {
    "colab": {
      "provenance": [],
      "authorship_tag": "ABX9TyPF6svp4k828aUvdqTGpDin",
      "include_colab_link": true
    },
    "kernelspec": {
      "name": "python3",
      "display_name": "Python 3"
    },
    "language_info": {
      "name": "python"
    }
  },
  "cells": [
    {
      "cell_type": "markdown",
      "metadata": {
        "id": "view-in-github",
        "colab_type": "text"
      },
      "source": [
        "<a href=\"https://colab.research.google.com/github/matheus-bdr/Meu-repositorio-Python/blob/main/fourth_day_for_python.ipynb\" target=\"_parent\"><img src=\"https://colab.research.google.com/assets/colab-badge.svg\" alt=\"Open In Colab\"/></a>"
      ]
    },
    {
      "cell_type": "markdown",
      "source": [
        "1) Faça um algoritmo que imprima na tela uma sequência de 10 números pares a partir do 1.\n",
        "\n",
        "2) Faça um programa que apresente na tela os 10 primeiros números negativos.\n",
        "\n",
        "3) Faça um algoritmo que leia um número positivo e imprima na tela todos os divisores desse número\n",
        "\n",
        "4) Faça um programa que leia N notas e mostre na tela a média das notas lidas.\n",
        "\n",
        "5) Escreva um algoritmo que leia um valor inicial A e uma razão R e imprima uma seqüência em P.A. contendo 10 valores.\n",
        "\n",
        "6) Escrever um algoritmo que gera e escreve os números ímpares entre 100 e 200.\n",
        "\n",
        "7) Crie uma tabuada do 1 ao 10 utilizando o comando while. Ex de saída: 1 x 0 = 0 1 x 1 = 1 1 x 2 = … 1 x 10 = 10\n",
        "\n",
        "2 x 0 = 0 2 x 1 = 2 … 2 x 10 = 20\n",
        "\n",
        "….\n",
        "\n",
        "10 x 0 = 0 10 x 1 = 10 … 10 x 10 = 100\n",
        "\n",
        "8) Desenvolver um algoritmo que leia um número não determinado de valores e calcule e escreva a média aritmética dos valores lidos, a quantidade de valores positivos, a quantidade de valores negativos e o percentual de valores negativos e positivos.\n",
        "\n",
        "9) Escrever um algoritmo que leia uma quantidade desconhecida de números e conte quantos deles estão nos seguintes intervalos: [0-25], [26-50], [51-75] e [76-100]. A entrada de dados deve terminar quando for lido um número negativo.\n",
        "\n",
        "10) Escreva um algoritmo que leia um valor inicial A e imprima a seqüência de valores do cálculo de A! e o seu resultado. Ex: 5! = 5 X 4 X 3 X 2 X 1 = 120"
      ],
      "metadata": {
        "id": "iRIQvuZE7Ehs"
      }
    },
    {
      "cell_type": "markdown",
      "source": [
        "1) Faça um algoritmo que imprima na tela uma sequência de 10 números pares a partir do 1."
      ],
      "metadata": {
        "id": "f5uNJ1kB7zIZ"
      }
    },
    {
      "cell_type": "code",
      "source": [
        "contador = 1\n",
        "soma = 0\n",
        "while(contador < 11):\n",
        "  print(contador*2)\n",
        "  contador = contador + 1"
      ],
      "metadata": {
        "colab": {
          "base_uri": "https://localhost:8080/"
        },
        "id": "VFNyCqBt7GKk",
        "outputId": "fb467fca-33fc-4ea7-9957-6a5dce26ba2f"
      },
      "execution_count": 116,
      "outputs": [
        {
          "output_type": "stream",
          "name": "stdout",
          "text": [
            "2\n",
            "4\n",
            "6\n",
            "8\n",
            "10\n",
            "12\n",
            "14\n",
            "16\n",
            "18\n",
            "20\n"
          ]
        }
      ]
    },
    {
      "cell_type": "markdown",
      "source": [
        "2) Faça um programa que apresente na tela os 10 primeiros números negativos."
      ],
      "metadata": {
        "id": "dp_Qw7Ns8ayF"
      }
    },
    {
      "cell_type": "code",
      "source": [
        "i = -1\n",
        "soma = 0\n",
        "while(i > -11):\n",
        "  print(i)\n",
        "  i = i - 1"
      ],
      "metadata": {
        "colab": {
          "base_uri": "https://localhost:8080/"
        },
        "id": "LwMt0znB8fRW",
        "outputId": "a5d0ccc5-1314-4b06-ac72-394696b1cd84"
      },
      "execution_count": 118,
      "outputs": [
        {
          "output_type": "stream",
          "name": "stdout",
          "text": [
            "-1\n",
            "-2\n",
            "-3\n",
            "-4\n",
            "-5\n",
            "-6\n",
            "-7\n",
            "-8\n",
            "-9\n",
            "-10\n"
          ]
        }
      ]
    },
    {
      "cell_type": "markdown",
      "source": [
        "3) Faça um algoritmo que leia um número positivo e imprima na tela todos os divisores desse número"
      ],
      "metadata": {
        "id": "eZFvHf3b8z0z"
      }
    },
    {
      "cell_type": "code",
      "source": [
        "\n",
        "i = 1\n",
        "div = 0\n",
        "\n",
        "#validação \n",
        "n = int(input('insira aqui seu número: '))\n",
        "while(n < 1 ):\n",
        "  n = int(input('insira aqui seu número: '))\n",
        "\n",
        "i = 1\n",
        "while i <= n:\n",
        "  if n % i==0:\n",
        "    print(i)\n",
        "    \n",
        "  i = i + 1\n",
        "\n"
      ],
      "metadata": {
        "colab": {
          "base_uri": "https://localhost:8080/"
        },
        "id": "KfohcazP8-ZX",
        "outputId": "6f753f4a-fffe-4daf-b194-052dd2611309"
      },
      "execution_count": 130,
      "outputs": [
        {
          "output_type": "stream",
          "name": "stdout",
          "text": [
            "insira aqui seu número: 12\n",
            "1\n",
            "2\n",
            "3\n",
            "4\n",
            "6\n",
            "12\n"
          ]
        }
      ]
    },
    {
      "cell_type": "markdown",
      "source": [
        "4) Faça um programa que leia N notas e mostre na tela a média das notas lidas."
      ],
      "metadata": {
        "id": "1ykWN3xpBdkm"
      }
    },
    {
      "cell_type": "code",
      "source": [
        "n = int(input('Digite a quantidade de notas que você quer: '))\n",
        "\n",
        "while n < 1:\n",
        "   n = int(input('Valor inválido! Digite a quantidade de notas que você quer: '))\n",
        "\n",
        "soma = 0\n",
        "contador = 1\n",
        "\n",
        "while contador <= n:\n",
        "  nota = float(input('Digite uma nota de 0 a 10: '))\n",
        "  while nota < 0 and nota > 10:\n",
        "    nota = float(input('Digite uma nota válida de 0 a 10: '))\n",
        "  soma += nota\n",
        "  contador += 1\n",
        "\n",
        "media = soma / n\n",
        "\n",
        "print(f'A media das notas lidas foi de {media:.2f}')"
      ],
      "metadata": {
        "id": "_N7dZMMcBjcD"
      },
      "execution_count": null,
      "outputs": []
    },
    {
      "cell_type": "markdown",
      "source": [
        "5) Escreva um algoritmo que leia um valor inicial A e uma razão R e imprima uma seqüência em P.A. contendo 10 valores."
      ],
      "metadata": {
        "id": "R9rMygzvIWqH"
      }
    },
    {
      "cell_type": "code",
      "source": [
        "i = 0\n",
        "soma = 0\n",
        "\n",
        "n1 = int(input('Insira o valor inicial: '))\n",
        "n2 = int(input('Insira o valor razao: '))\n",
        "print('A progressão aritmética desse número é  ')\n",
        "\n",
        "while(i<9):\n",
        "  if (i==0):\n",
        "    soma = soma + n1 + n2\n",
        "  else:\n",
        "      soma = soma +n2 \n",
        "  print(n1)\n",
        "  print(soma)\n",
        "  i = i + 1 "
      ],
      "metadata": {
        "id": "rxbzDnhtIXJG"
      },
      "execution_count": null,
      "outputs": []
    },
    {
      "cell_type": "markdown",
      "source": [
        "6) Escrever um algoritmo que gera e escreve os números ímpares entre 100 e 200."
      ],
      "metadata": {
        "id": "96-G5lApKxui"
      }
    },
    {
      "cell_type": "code",
      "source": [
        "min = 100\n",
        "max = 200\n",
        "mod = 0\n",
        "while(min<max):\n",
        "  mod = min%2 \n",
        "  if(min%2!=0):\n",
        "    print('numero impar', min )\n",
        "  else:\n",
        "    print(\"-------\")\n",
        "  min = min + 1\n",
        " "
      ],
      "metadata": {
        "id": "QkEa0w87K7Yc"
      },
      "execution_count": null,
      "outputs": []
    },
    {
      "cell_type": "markdown",
      "source": [
        "7) Crie uma tabuada do 1 ao 10 utilizando o comando while. Ex de saída: 1 x 0 = 0 1 x 1 = 1 1 x 2 = … 1 x 10 = 10\n",
        "\n",
        "2 x 0 = 0 2 x 1 = 2 … 2 x 10 = 20\n",
        "\n",
        "….\n",
        "\n",
        "10 x 0 = 0 10 x 1 = 10 … 10 x 10 = 100"
      ],
      "metadata": {
        "id": "aY8Fi7EQPTDZ"
      }
    },
    {
      "cell_type": "code",
      "source": [
        "numero = 1\n",
        "multiplicador = 0\n",
        "\n",
        "while numero < 11: \n",
        "  result = numero * multiplicador\n",
        "  print(f\"{numero} x {multiplicador}  = {result}\")\n",
        "  multiplicador += 1\n",
        "  if multiplicador > 10:\n",
        "    multiplicador = 0\n",
        "    numero += 1\n"
      ],
      "metadata": {
        "id": "XvknqJZYYg-s"
      },
      "execution_count": null,
      "outputs": []
    },
    {
      "cell_type": "markdown",
      "source": [
        "8) Desenvolver um algoritmo que leia um número não determinado de valores e calcule e escreva a média aritmética dos valores lidos, a quantidade de valores positivos, a quantidade de valores negativos e o percentual de valores negativos e positivos.\n"
      ],
      "metadata": {
        "id": "KFuetN-luers"
      }
    },
    {
      "cell_type": "code",
      "source": [
        "soma_numeros = 0\n",
        "qtd_numeros = 0\n",
        "qtd_positivos = 0\n",
        "qtd_negativos = 0 \n",
        "\n",
        "while True: \n",
        "  numero = float(input('Digite um número qualquer: '))\n",
        "  qtd_numeros += 1\n",
        "  soma_numeros += numero\n",
        "  if numero > 0:\n",
        "    qtd_positivos += 1\n",
        "  if numero < 0:\n",
        "    qtd_negativos += 1\n",
        "  \n",
        "  cond = input('Digite n para sair ou qualquer outra coisa para continuar')\n",
        "  if cond.lower() == 'n':\n",
        "    break\n",
        "\n",
        "media = soma_numeros / qtd_numeros\n",
        "\n",
        "print(f'A media dos numeros digitados foi {media}')\n",
        "print(f'A qtd de números positivos digitados foi {qtd_positivos}')\n",
        "print(f'A qtd de números negativos digitados foi {qtd_negativos}')\n",
        "print(f'O percentual de números positivos foi {qtd_positivos / qtd_numeros * 100}%')\n",
        "print(f'O percentual de números negativos foi {qtd_negativos / qtd_numeros * 100}%')\n",
        "\n",
        "\n"
      ],
      "metadata": {
        "id": "L1M5rR9aueOS"
      },
      "execution_count": null,
      "outputs": []
    },
    {
      "cell_type": "markdown",
      "source": [
        "9) Escrever um algoritmo que leia uma quantidade desconhecida de números e conte quantos deles estão nos seguintes intervalos: [0-25], [26-50], [51-75] e [76-100]. A entrada de dados deve terminar quando for lido um número negativo."
      ],
      "metadata": {
        "id": "CDzh_5mAufTs"
      }
    },
    {
      "cell_type": "code",
      "source": [
        "# 9) Escrever um algoritmo que leia uma quantidade desconhecida de números e conte quantos deles\n",
        "# estão nos seguintes intervalos: [0-25], [26-50], [51-75] e [76-100]. A entrada de dados deve\n",
        "# terminar quando for lido um número negativo.\n",
        "\n",
        "intervalo1 = 0\n",
        "intervalo2 = 0\n",
        "intervalo3 = 0\n",
        "intervalo4 = 0\n",
        "\n",
        "while True:\n",
        "  n = int(input('Digite um número qualquer: '))\n",
        "  if n < 0:\n",
        "    print('Obrigado por utilizar nosso sistema, Volte Sempre!')\n",
        "    break\n",
        "  \n",
        "  if 0 <= n <= 25:\n",
        "    intervalo1 += 1\n",
        "  elif 26 <= n <= 50:\n",
        "    intervalo2 += 1\n",
        "  elif 51 <= n <= 75:\n",
        "    intervalo3 += 1\n",
        "  elif 76 <= n <= 100:\n",
        "    intervalo4 += 1\n",
        "\n",
        "print(f'A quantidade de valores no intervalo [0-25] foi de {intervalo1} número(s)')\n",
        "print(f'A quantidade de valores no intervalo [26-50] foi de {intervalo2} número(s)')\n",
        "print(f'A quantidade de valores no intervalo [51-75] foi de {intervalo3} número(s)')\n",
        "print(f'A quantidade de valores no intervalo [76-100] foi de {intervalo4} número(s)')"
      ],
      "metadata": {
        "id": "hHoD71SKud1x"
      },
      "execution_count": null,
      "outputs": []
    },
    {
      "cell_type": "markdown",
      "source": [
        "10 - Escreva um algoritmo que leia um valor inicial A e imprima a seqüência de valores do cálculo de A! e o seu resultado. Ex: 5! = 5 X 4 X 3 X 2 X 1 = 120"
      ],
      "metadata": {
        "id": "6QJuKXyfuoYG"
      }
    },
    {
      "cell_type": "code",
      "source": [
        "fatorial = 1\n",
        "\n",
        "n = int(input('Digite um valor para o cálculo do fatorial: '))\n",
        "while n < 0:\n",
        "  n = int(input('Digite um valor para o cálculo do fatorial: '))\n",
        "\n",
        "contador = n\n",
        "while contador >= 1:\n",
        "  if contador > 1:\n",
        "    print(f'{contador} x', end=' ')\n",
        "  \n",
        "  fatorial *= contador\n",
        "  contador -= 1\n",
        "\n",
        "print(f'1 = {fatorial}')"
      ],
      "metadata": {
        "colab": {
          "base_uri": "https://localhost:8080/"
        },
        "id": "SWAQ_dg7Fk6u",
        "outputId": "17d093c6-bbd2-471d-ca55-5b45ff4c2fde"
      },
      "execution_count": 22,
      "outputs": [
        {
          "output_type": "stream",
          "name": "stdout",
          "text": [
            "Digite um valor para o cálculo do fatorial: 5\n",
            "5 x 4 x 3 x 2 x 1 = 120\n"
          ]
        }
      ]
    }
  ]
}