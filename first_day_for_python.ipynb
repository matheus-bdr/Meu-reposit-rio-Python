{
  "nbformat": 4,
  "nbformat_minor": 0,
  "metadata": {
    "colab": {
      "provenance": [],
      "mount_file_id": "15D4RMEbHsWmE360QYZuJtU6m10rT62-v",
      "authorship_tag": "ABX9TyPTMnhLstD6yhKevdlm8ga3",
      "include_colab_link": true
    },
    "kernelspec": {
      "name": "python3",
      "display_name": "Python 3"
    },
    "language_info": {
      "name": "python"
    }
  },
  "cells": [
    {
      "cell_type": "markdown",
      "metadata": {
        "id": "view-in-github",
        "colab_type": "text"
      },
      "source": [
        "<a href=\"https://colab.research.google.com/github/matheus-bdr/Meu-reposit-rio-Python/blob/main/Entrada_processamento_saida_de_dados.ipynb\" target=\"_parent\"><img src=\"https://colab.research.google.com/assets/colab-badge.svg\" alt=\"Open In Colab\"/></a>"
      ]
    },
    {
      "cell_type": "code",
      "source": [
        "#Programa usando if else simples\n",
        "print(\"Meu nome é Matheus \\nEste um programa aleatório!\\n \")\n",
        "\n",
        "var = input(\"voce deseja ver esse conteudo?\\n(responda com y ou n): \")\n",
        "\n",
        "if var.lower() =='n' :\n",
        "  print(\"\\n\\nfim do programa\")\n",
        "else:\n",
        "  print(\"\\n\\nOlá aluno, espero que esteja bem\\n\\no seu resultado foi o nível x\\n\\nVocê vai receber um email da plataforma Teachable para iniciar seus estudos no Inglês.\" )"
      ],
      "metadata": {
        "id": "dFiDK6avVOAD"
      },
      "execution_count": null,
      "outputs": []
    },
    {
      "cell_type": "code",
      "source": [
        "#Operações matemáticas em Python\n",
        "print(\"Meu primeiro programa\")\n",
        "n1 = float(input(\"digite um numero 1: \"))\n",
        "n2 = float(input(\"digite um numero 2: \"))\n",
        "\n",
        "soma = n1 + n2\n",
        "sub = n1 - n2 \n",
        "div = n1 / n2\n",
        "mult = n1 * n2\n",
        "\n",
        "print(\"A soma dos numeros é igual a: \" , soma)\n",
        "print(\"A sub dos numeros é igual a: \", sub)\n",
        "print(\"A divisao dos numeros é igual a: \", div)\n",
        "print(\"A multiplicacao dos numeros é igual a: \", mult)"
      ],
      "metadata": {
        "id": "i3POzO0iglcP"
      },
      "execution_count": null,
      "outputs": []
    },
    {
      "cell_type": "code",
      "source": [
        "#Calculando a média dos aluno \n",
        "print(\"Nota do aluno\")\n",
        "\n",
        "nota1 = float(input(\"\\n digite a nota 1: \"))\n",
        "nota2 = float(input(\"\\n digite a nota 2: \"))\n",
        "nota3 = float(input(\"\\n digite a nota 3: \"))\n",
        "\n",
        "print(\"__________________________________________\")\n",
        "media = (nota1 + nota2 + nota3) /3\n",
        "2\n",
        "\n",
        "print(\"A média do aluno é\", media)"
      ],
      "metadata": {
        "id": "s-cPJdqjhywd"
      },
      "execution_count": null,
      "outputs": []
    },
    {
      "cell_type": "code",
      "source": [
        "#verificando se o input é true ou false\n",
        "nome = str(input(\"diga um nome \"))\n",
        "nome == 'patricia'\n"
      ],
      "metadata": {
        "id": "dz_dWiqlKE6A"
      },
      "execution_count": null,
      "outputs": []
    }
  ]
}
