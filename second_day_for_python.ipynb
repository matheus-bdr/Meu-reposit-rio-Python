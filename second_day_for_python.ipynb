{
  "nbformat": 4,
  "nbformat_minor": 0,
  "metadata": {
    "colab": {
      "provenance": [],
      "authorship_tag": "ABX9TyOUyjHWPHc4Og3UIQsjFZN7",
      "include_colab_link": true
    },
    "kernelspec": {
      "name": "python3",
      "display_name": "Python 3"
    },
    "language_info": {
      "name": "python"
    }
  },
  "cells": [
    {
      "cell_type": "markdown",
      "metadata": {
        "id": "view-in-github",
        "colab_type": "text"
      },
      "source": [
        "<a href=\"https://colab.research.google.com/github/matheus-bdr/Meu-repositorio-Python/blob/main/second_day_for_python.ipynb\" target=\"_parent\"><img src=\"https://colab.research.google.com/assets/colab-badge.svg\" alt=\"Open In Colab\"/></a>"
      ]
    },
    {
      "cell_type": "code",
      "execution_count": null,
      "metadata": {
        "id": "XlMMy_RiVM6n"
      },
      "outputs": [],
      "source": [
        "#remover espaços vazios de uma string \n",
        "\n",
        "aula = '    .a aula está bacana hoje.       '\n",
        "print(aula)\n",
        "\n",
        "aula.strip()\n",
        "print(aula.strip())"
      ]
    },
    {
      "cell_type": "code",
      "source": [
        "#Alterar erro de ortografia no vetor da variavel \n",
        "\n",
        "estudos = 'caderno, lapes, canata, oculos'\n",
        "print(estudos)\n",
        "\n",
        "estudos = estudos.replace('lapes' , 'lapis')\n",
        "estudos = estudos.replace('canata' , 'caneta')\n",
        "\n",
        "print(estudos)\n",
        "\n"
      ],
      "metadata": {
        "id": "8j-u2RKdWzzJ"
      },
      "execution_count": null,
      "outputs": []
    },
    {
      "cell_type": "code",
      "source": [
        "#fatiamento de strings\n",
        "\n",
        "nome = 'Matheus'\n",
        "\n",
        "#primeira posição\n",
        "print(nome[0])\n",
        "\n",
        "#primeira posição pulando de um em um\n",
        "print(nome[0:7:1])\n",
        "\n",
        "#primeira posição pulando de dois em dois\n",
        "print(nome[0:7:2])\n",
        "\n"
      ],
      "metadata": {
        "id": "ExK_FdZLZDM3"
      },
      "execution_count": null,
      "outputs": []
    },
    {
      "cell_type": "code",
      "source": [
        "#verificar a quantidade de alguma palavra dentro de uma string \n",
        "\n",
        "frutas = 'goiaba, morango, kiwi'\n",
        "\n",
        "print(frutas.count('goiaba'))\n",
        "print(frutas.count('morango'))"
      ],
      "metadata": {
        "id": "gr35HBzJaawt"
      },
      "execution_count": null,
      "outputs": []
    },
    {
      "cell_type": "code",
      "source": [
        "#estrutura de condição \n",
        "n = 20\n",
        "\n",
        "if n==10:\n",
        "  print(\"olá\")\n",
        "else:\n",
        "  print(\"não olá\")  "
      ],
      "metadata": {
        "id": "TZo918-Vpea4"
      },
      "execution_count": null,
      "outputs": []
    },
    {
      "cell_type": "code",
      "source": [
        "#Quero pegar uma comida na geladeira \n",
        "\n",
        "geladeira = input(\"A geladeira esta aberta ou fechada? \")\n",
        "\n",
        "if(geladeira.lower == 'aberta'):\n",
        "  print(\"pegue sua comida\")\n",
        "\n",
        "else: \n",
        "  (geladeira.lower == 'fechada')\n",
        "print(\"abra a geladeira primeiro\")\n",
        "#tentar até conseguir"
      ],
      "metadata": {
        "id": "2slCyl4TwMGy"
      },
      "execution_count": null,
      "outputs": []
    },
    {
      "cell_type": "code",
      "source": [
        "#Leia o numero inteiro e fale se ele é maior igual ou menor que 10 \n",
        "\n",
        "numero = int(input('insira um numero : '))\n",
        "\n",
        "if(numero==10):\n",
        "  print(f'{numero} é igual que 10')\n",
        "\n",
        "if(numero<10):\n",
        "  print(f'{numero}  é menor que 10')\n",
        "\n",
        "if(numero>10):\n",
        "  print(f'{numero}  é maior que 10')\n"
      ],
      "metadata": {
        "colab": {
          "base_uri": "https://localhost:8080/"
        },
        "id": "BEMqpKwzw2Fh",
        "outputId": "0618daa5-e29a-4da9-a435-26a6c004b82b"
      },
      "execution_count": null,
      "outputs": [
        {
          "output_type": "stream",
          "name": "stdout",
          "text": [
            "1122123  é maior que 10\n"
          ]
        }
      ]
    },
    {
      "cell_type": "code",
      "source": [
        "#leia dois numeros inteiros e apresente na tela o maior deles ou se eles são iguais\n",
        "\n",
        "n1 = int(input('insira um numero 1: '))\n",
        "n2 = int(input('insira um numero 2: '))\n",
        "\n",
        "if n1 > n2: \n",
        " print(f'{n1} é maior que o {n2} ')\n",
        "  \n",
        "if n1 < n2: \n",
        " print(f'{n1} é menor que {n2}')\n",
        "\n",
        "if n1==n2:\n",
        " print(f'{n1} são iguais {n2}')\n"
      ],
      "metadata": {
        "id": "yCzKFBKM3b2i"
      },
      "execution_count": null,
      "outputs": []
    },
    {
      "cell_type": "code",
      "source": [
        "#1) Crie um algoritmo que leia um número e diga se ele está no intervalo fechado entre 25 e 200.\n",
        "\n",
        "#2) Crie um algoritmo que leia 5 números e informe na tela o maior número lido.\n",
        "\n",
        "#3) Crie um algoritmo que leia um número e informe na tela se o mesmo é positivo. Caso seja, mostre o número na tela.\n",
        "\n",
        "#4) Crie um algoritmo que leia um número e informe se ele é divisível por 7.\n",
        "\n",
        "#5) Crie um algotimo que leia um número e diga se ele é par ou ímpar.\n",
        "\n",
        "#6) A prefeitura de Contagem abriu uma linha de crédito para os funcionários estatutários.\n",
        "#O valor máximo da prestação não poderá ultrapassar 30% do salário bruto. Fazer um algoritmo que permita entrar\n",
        "# com o salário bruto e o valor da prestação, e informar se o empréstimo pode ou não ser concedido."
      ],
      "metadata": {
        "id": "BEH0t0Lp_jif"
      },
      "execution_count": null,
      "outputs": []
    },
    {
      "cell_type": "code",
      "source": [
        "#1) Crie um algoritmo que leia um número e diga se ele está no intervalo fechado entre 25 e 200.\n",
        "\n",
        "nu = int(input('insira um numero : '))\n",
        "if(nu<=200 and nu>=25):\n",
        "  print(f'{nu} está no intervalo')\n",
        "else: \n",
        "  print('numero nao está no intervalo')\n"
      ],
      "metadata": {
        "id": "tzgctCDPABkD"
      },
      "execution_count": null,
      "outputs": []
    },
    {
      "cell_type": "code",
      "source": [
        "#2) Crie um algoritmo que leia 5 números e informe na tela o maior número lido.\n",
        "\n",
        "n0 = int(input('insira um numero : '))\n",
        "n1 = int(input('insira um numero : '))\n",
        "n2 = int(input('insira um numero : '))\n",
        "n3 = int(input('insira um numero : '))\n",
        "n4 = int(input('insira um numero : '))\n",
        "max \n",
        "\n",
        "if(n0 > n1):\n",
        "  max = n0\n",
        "if(n0 > n2):\n",
        "  max = n0\n",
        "if(n0 > n3):\n",
        "  max = n0\n",
        "if(n0 > n4):\n",
        "  max = n0\n",
        "\n",
        "if (n1 > n0):\n",
        "  max = n1\n",
        "if (n1 > n2):\n",
        "  max = n1\n",
        "if (n1 > n3):\n",
        "  max = n1\n",
        "if (n1 > n4):\n",
        "  max = n1\n",
        "\n",
        "if (n2 > n0):\n",
        "  max = n2\n",
        "if (n2 > n1):\n",
        "  max = n2\n",
        "if (n2 > n3):\n",
        "  max = n2\n",
        "if (n2 > n4):\n",
        "  max = n2\n",
        "\n",
        "if (n3 > n0):\n",
        "  max = n3\n",
        "if (n3 > n1):\n",
        "  max = n3\n",
        "if (n3 > n2):\n",
        "  max = n3\n",
        "if (n3 > n4):\n",
        "  max = n3\n",
        "\n",
        "if (n4 > n0):\n",
        "  max = n4\n",
        "if (n4 > n1):\n",
        "  max = n4\n",
        "if (n4 > n2):\n",
        "  max = n4\n",
        "if (n4 > n3):\n",
        "  max = n4\n",
        "\n",
        "print(f'o maior numero é: {max}')\n",
        "\n"
      ],
      "metadata": {
        "id": "TrDeQSzjBle5"
      },
      "execution_count": null,
      "outputs": []
    },
    {
      "cell_type": "code",
      "source": [
        "#3) Crie um algoritmo que leia um número e informe na tela se o mesmo é positivo. Caso seja, mostre o número na tela.\n",
        "n0 = int(input('insira um numero : '))\n",
        "if(n0>0):\n",
        "  print(\"numero positivo\")\n",
        "else:\n",
        "  print(\"numero negativo\")"
      ],
      "metadata": {
        "id": "kDa8_-ccHELu"
      },
      "execution_count": null,
      "outputs": []
    },
    {
      "cell_type": "code",
      "source": [
        "#4) Crie um algoritmo que leia um número e informe se ele é divisível por 7.\n",
        "n = int(input('insira um numero : ')) \n",
        "modulo = n%7\n",
        "if modulo == 0 :\n",
        "  print('numero divisivel por 7')\n",
        "else: \n",
        "  print('não é divisivel por 7')\n"
      ],
      "metadata": {
        "id": "3lLDtUoiHx__"
      },
      "execution_count": null,
      "outputs": []
    },
    {
      "cell_type": "code",
      "source": [
        "#5) Crie um algotimo que leia um número e diga se ele é par ou ímpar.\n",
        "n = int(input('insira um numero : ')) \n",
        "modulo = n%2\n",
        "if(modulo==0): \n",
        "   print('numero par ')\n",
        "else: \n",
        "  print('numero impar')\n"
      ],
      "metadata": {
        "id": "5bQKWsUWMAQP"
      },
      "execution_count": null,
      "outputs": []
    },
    {
      "cell_type": "code",
      "source": [
        "# 6)  A prefeitura de Contagem abriu uma linha de crédito para os funcionários estatutários.\n",
        "#     O valor máximo da prestação não poderá ultrapassar 30% do salário bruto. Fazer um algoritmo que permita entrar\n",
        "#     com o salário bruto e o valor da prestação, e informar se o empréstimo pode ou não ser concedido.\n",
        "\n",
        "salario = int(input('insira seu salario : '))\n",
        "prestacao = int(input('insira sua prestacao : '))\n",
        "\n",
        "salariobruto=salario*30\n",
        "prestacaopermitida = salariobruto/100\n",
        "\n",
        "if(prestacao>prestacaopermitida):\n",
        "  print(\"O valor de crédito não permite este valor de pretação\")\n",
        "else:\n",
        "  print(\"Valor para crédito disponivel!\")\n",
        "\n"
      ],
      "metadata": {
        "id": "SFRoKnBGNCv1"
      },
      "execution_count": null,
      "outputs": []
    }
  ]
}